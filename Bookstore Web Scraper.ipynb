{
 "cells": [
  {
   "cell_type": "code",
   "execution_count": 40,
   "id": "9a1b3496",
   "metadata": {},
   "outputs": [],
   "source": [
    "import requests\n",
    "from bs4 import BeautifulSoup"
   ]
  },
  {
   "cell_type": "code",
   "execution_count": null,
   "id": "e79ca5b0",
   "metadata": {},
   "outputs": [],
   "source": [
    "#url of the Bookstore Website\n",
    "url = \"http://books.toscrape.com/catalogue/page-1.html\"\n"
   ]
  },
  {
   "cell_type": "code",
   "execution_count": 42,
   "id": "56795a69",
   "metadata": {},
   "outputs": [
    {
     "name": "stdout",
     "output_type": "stream",
     "text": [
      "Title                                                                                                Rating\n",
      "------------------------------------------------------------------------------------------------------------------------\n",
      "A Light in the Attic                                                                                 Three\n",
      "Tipping the Velvet                                                                                   One\n",
      "Soumission                                                                                           One\n",
      "Sharp Objects                                                                                        Four\n",
      "Sapiens: A Brief History of Humankind                                                                Five\n",
      "The Requiem Red                                                                                      One\n",
      "The Dirty Little Secrets of Getting Your Dream Job                                                   Four\n",
      "The Coming Woman: A Novel Based on the Life of the Infamous Feminist, Victoria Woodhull              Three\n",
      "The Boys in the Boat: Nine Americans and Their Epic Quest for Gold at the 1936 Berlin Olympics       Four\n",
      "The Black Maria                                                                                      One\n",
      "Starving Hearts (Triangular Trade Trilogy, #1)                                                       Two\n",
      "Shakespeare's Sonnets                                                                                Four\n",
      "Set Me Free                                                                                          Five\n",
      "Scott Pilgrim's Precious Little Life (Scott Pilgrim #1)                                              Five\n",
      "Rip it Up and Start Again                                                                            Five\n",
      "Our Band Could Be Your Life: Scenes from the American Indie Underground, 1981-1991                   Three\n",
      "Olio                                                                                                 One\n",
      "Mesaerion: The Best Science Fiction Stories 1800-1849                                                One\n",
      "Libertarianism for Beginners                                                                         Two\n",
      "It's Only the Himalayas                                                                              Two\n",
      "In Her Wake                                                                                          One\n",
      "How Music Works                                                                                      Two\n",
      "Foolproof Preserving: A Guide to Small Batch Jams, Jellies, Pickles, Condiments, and More: A Foolproof Guide to Making Small Batch Jams, Jellies, Pickles, Condiments, and More Three\n",
      "Chase Me (Paris Nights #2)                                                                           Five\n",
      "Black Dust                                                                                           Five\n",
      "Birdsong: A Story in Pictures                                                                        Three\n",
      "America's Cradle of Quarterbacks: Western Pennsylvania's Football Factory from Johnny Unitas to Joe Montana Three\n",
      "Aladdin and His Wonderful Lamp                                                                       Three\n",
      "Worlds Elsewhere: Journeys Around Shakespeare’s Globe                                                Five\n",
      "Wall and Piece                                                                                       Four\n",
      "The Four Agreements: A Practical Guide to Personal Freedom                                           Five\n",
      "The Five Love Languages: How to Express Heartfelt Commitment to Your Mate                            Three\n",
      "The Elephant Tree                                                                                    Five\n",
      "The Bear and the Piano                                                                               One\n",
      "Sophie's World                                                                                       Five\n",
      "Penny Maybe                                                                                          Three\n",
      "Maude (1883-1993):She Grew Up with the country                                                       Two\n",
      "In a Dark, Dark Wood                                                                                 One\n",
      "Behind Closed Doors                                                                                  Four\n",
      "You can't bury them all: Poems                                                                       Two\n"
     ]
    }
   ],
   "source": [
    "#function to scrape the data\n",
    "def scrape_books(page_url):\n",
    "    \n",
    "    request = requests.get(page_url)\n",
    "    #Checking whether the request was successful or not\n",
    "    if request.status_code!=200:\n",
    "        print(f\"There was {request.status_code} error\")\n",
    "        return []\n",
    "    \n",
    "    #parse the data using BeautifulSoup\n",
    "    soup = BeautifulSoup(request.content, 'html')\n",
    "\n",
    "    books = soup.find_all(\"article\" , class_=\"product_pod\")\n",
    "    book_list=[]\n",
    "    \n",
    "    for book in books:\n",
    "        #Book title\n",
    "        title = book.h3.a['title']\n",
    "        #Book rating\n",
    "        rating = book.p['class'][1]\n",
    "        book_list.append({\"Title\": title, \"Rating\": rating})\n",
    "    return book_list\n",
    "\n",
    "\n",
    "all_books = []\n",
    "base_url = \"http://books.toscrape.com/catalogue/page-{}.html\"\n",
    "#Scrape only for 2 pages\n",
    "for page in range(1, 3): \n",
    "    # to format url to access pages\n",
    "    page_url = base_url.format(page)\n",
    "    #call the function\n",
    "    books_on_page = scrape_books(page_url)\n",
    "    #add to the main list\n",
    "    all_books.extend(books_on_page)       \n",
    "\n",
    "#display the content \n",
    "print(f\"{'Title':<100} {'Rating'}\")\n",
    "print(\"-\" * 120)\n",
    "for book in all_books:\n",
    "    print(f\"{book['Title']:<100} {book['Rating']}\")"
   ]
  },
  {
   "cell_type": "code",
   "execution_count": 48,
   "id": "e50ca4b0",
   "metadata": {},
   "outputs": [
    {
     "name": "stdout",
     "output_type": "stream",
     "text": [
      "Successfully saved!\n"
     ]
    }
   ],
   "source": [
    "import csv\n",
    "with open(\"books.csv\",'w',newline=\"\",encoding=\"utf-8\") as file:\n",
    "    #Convert dictionary into csv file\n",
    "    write = csv.DictWriter(file ,fieldnames=[\"Title\",\"Rating\"])\n",
    "    #Define the heading\n",
    "    write.writeheader()\n",
    "    #write the content of the rows\n",
    "    write.writerows(all_books)\n",
    "#csv file created successfully\n",
    "print(\"Successfully saved!\")"
   ]
  }
 ],
 "metadata": {
  "kernelspec": {
   "display_name": "Python 3 (ipykernel)",
   "language": "python",
   "name": "python3"
  },
  "language_info": {
   "codemirror_mode": {
    "name": "ipython",
    "version": 3
   },
   "file_extension": ".py",
   "mimetype": "text/x-python",
   "name": "python",
   "nbconvert_exporter": "python",
   "pygments_lexer": "ipython3",
   "version": "3.9.13"
  }
 },
 "nbformat": 4,
 "nbformat_minor": 5
}
